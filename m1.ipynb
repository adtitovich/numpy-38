{
  "nbformat": 4,
  "nbformat_minor": 0,
  "metadata": {
    "colab": {
      "provenance": [],
      "authorship_tag": "ABX9TyNKOqKO8yo3+Ixfo/4Lnn33",
      "include_colab_link": true
    },
    "kernelspec": {
      "name": "python3",
      "display_name": "Python 3"
    },
    "language_info": {
      "name": "python"
    }
  },
  "cells": [
    {
      "cell_type": "markdown",
      "metadata": {
        "id": "view-in-github",
        "colab_type": "text"
      },
      "source": [
        "<a href=\"https://colab.research.google.com/github/adtitovich/numpy-38/blob/main/m1.ipynb\" target=\"_parent\"><img src=\"https://colab.research.google.com/assets/colab-badge.svg\" alt=\"Open In Colab\"/></a>"
      ]
    },
    {
      "cell_type": "markdown",
      "source": [
        "***Домашнее задание «Библиотека numpy. Вычислительные задачи»***"
      ],
      "metadata": {
        "id": "pFRx4WdIuprq"
      }
    },
    {
      "cell_type": "markdown",
      "source": [
        "**Задание 1**\n",
        "\n",
        "Создайте numpy array с элементами от числа N до 0 (например, для N = 10 это будет array([9, 8, 7, 6, 5, 4, 3, 2, 1, 0]))."
      ],
      "metadata": {
        "id": "DU0RcMLEu28n"
      }
    },
    {
      "cell_type": "code",
      "source": [
        "import numpy as np\n",
        "\n",
        "n = 10\n",
        "array = np.arange(n-1, -1, -1)\n",
        "print(array)"
      ],
      "metadata": {
        "id": "gJUZQxpku91N",
        "outputId": "a6d8f17a-5a32-4882-e389-70162a060403",
        "colab": {
          "base_uri": "https://localhost:8080/"
        }
      },
      "execution_count": 7,
      "outputs": [
        {
          "output_type": "stream",
          "name": "stdout",
          "text": [
            "[9 8 7 6 5 4 3 2 1 0]\n"
          ]
        }
      ]
    },
    {
      "cell_type": "markdown",
      "source": [
        "**Задание 2**\n",
        "\n",
        "Создайте диагональную матрицу с элементами от N до 0. Посчитайте сумму ее значений на диагонали."
      ],
      "metadata": {
        "id": "GJxIAN1mu-qi"
      }
    },
    {
      "cell_type": "code",
      "source": [
        "import numpy as np\n",
        "\n",
        "n = 10\n",
        "\n",
        "m = np.diag(np.arange(n-1, -1, -1))\n",
        "print(m)\n",
        "# Так как матрица диагональная, то сумма значений на диагонали = сумма значений всех элементов матрицы\n",
        "print(f'Сумма значений на диагонали: {m.sum()}')"
      ],
      "metadata": {
        "id": "Mr6BSnVovE95",
        "outputId": "c0d6d9cd-9b61-486b-fc93-7539509882d9",
        "colab": {
          "base_uri": "https://localhost:8080/"
        }
      },
      "execution_count": 12,
      "outputs": [
        {
          "output_type": "stream",
          "name": "stdout",
          "text": [
            "[[9 0 0 0 0 0 0 0 0 0]\n",
            " [0 8 0 0 0 0 0 0 0 0]\n",
            " [0 0 7 0 0 0 0 0 0 0]\n",
            " [0 0 0 6 0 0 0 0 0 0]\n",
            " [0 0 0 0 5 0 0 0 0 0]\n",
            " [0 0 0 0 0 4 0 0 0 0]\n",
            " [0 0 0 0 0 0 3 0 0 0]\n",
            " [0 0 0 0 0 0 0 2 0 0]\n",
            " [0 0 0 0 0 0 0 0 1 0]\n",
            " [0 0 0 0 0 0 0 0 0 0]]\n",
            "Сумма значений на диагонали: 45\n"
          ]
        }
      ]
    },
    {
      "cell_type": "markdown",
      "source": [
        "**Задание 3**\n",
        "\n",
        "Решите систему уравнений:\n",
        "4x + 2y + z = 4\n",
        "x + 3y = 12\n",
        "5y + 4z = -3"
      ],
      "metadata": {
        "id": "aZq64_NUusiD"
      }
    },
    {
      "cell_type": "code",
      "source": [],
      "metadata": {
        "id": "IPLFZLODvKn3"
      },
      "execution_count": null,
      "outputs": []
    },
    {
      "cell_type": "markdown",
      "source": [
        "**Задание 4**\n",
        "\n",
        "Задание находится в тренажере “Косинусное сходство”"
      ],
      "metadata": {
        "id": "V0YDVny_vNK_"
      }
    }
  ]
}