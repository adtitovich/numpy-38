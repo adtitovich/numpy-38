{
  "nbformat": 4,
  "nbformat_minor": 0,
  "metadata": {
    "colab": {
      "provenance": [],
      "authorship_tag": "ABX9TyOKd42+xbQoIHGuCj+g8XLA",
      "include_colab_link": true
    },
    "kernelspec": {
      "name": "python3",
      "display_name": "Python 3"
    },
    "language_info": {
      "name": "python"
    }
  },
  "cells": [
    {
      "cell_type": "markdown",
      "metadata": {
        "id": "view-in-github",
        "colab_type": "text"
      },
      "source": [
        "<a href=\"https://colab.research.google.com/github/adtitovich/numpy-38/blob/main/m1.ipynb\" target=\"_parent\"><img src=\"https://colab.research.google.com/assets/colab-badge.svg\" alt=\"Open In Colab\"/></a>"
      ]
    },
    {
      "cell_type": "markdown",
      "source": [
        "***Домашнее задание «Библиотека numpy. Вычислительные задачи»***"
      ],
      "metadata": {
        "id": "pFRx4WdIuprq"
      }
    },
    {
      "cell_type": "markdown",
      "source": [
        "**Задание 1**\n",
        "\n",
        "Создайте numpy array с элементами от числа N до 0 (например, для N = 10 это будет array([9, 8, 7, 6, 5, 4, 3, 2, 1, 0]))."
      ],
      "metadata": {
        "id": "DU0RcMLEu28n"
      }
    },
    {
      "cell_type": "code",
      "source": [
        "import numpy as np\n",
        "\n",
        "n = 10\n",
        "\n",
        "array = np.arange(n-1, -1, -1)\n",
        "print(array)"
      ],
      "metadata": {
        "id": "gJUZQxpku91N",
        "outputId": "b64bd052-be58-42f7-b9ae-10352c6d3879",
        "colab": {
          "base_uri": "https://localhost:8080/"
        }
      },
      "execution_count": 27,
      "outputs": [
        {
          "output_type": "stream",
          "name": "stdout",
          "text": [
            "[9 8 7 6 5 4 3 2 1 0]\n"
          ]
        }
      ]
    },
    {
      "cell_type": "markdown",
      "source": [
        "**Задание 2**\n",
        "\n",
        "Создайте диагональную матрицу с элементами от N до 0. Посчитайте сумму ее значений на диагонали."
      ],
      "metadata": {
        "id": "GJxIAN1mu-qi"
      }
    },
    {
      "cell_type": "code",
      "source": [
        "import numpy as np\n",
        "\n",
        "n = 10\n",
        "\n",
        "# диагональная матрица\n",
        "m = np.diag(np.arange(n-1, -1, -1))\n",
        "print(m)\n",
        "\n",
        "# Так как матрица диагональная, то сумма значений на диагонали = сумма значений всех элементов матрицы\n",
        "print(f'Сумма значений на диагонали: {m.sum()}')"
      ],
      "metadata": {
        "id": "Mr6BSnVovE95",
        "outputId": "420f17d3-d456-468b-e0a6-62d28842961f",
        "colab": {
          "base_uri": "https://localhost:8080/"
        }
      },
      "execution_count": 28,
      "outputs": [
        {
          "output_type": "stream",
          "name": "stdout",
          "text": [
            "[[9 0 0 0 0 0 0 0 0 0]\n",
            " [0 8 0 0 0 0 0 0 0 0]\n",
            " [0 0 7 0 0 0 0 0 0 0]\n",
            " [0 0 0 6 0 0 0 0 0 0]\n",
            " [0 0 0 0 5 0 0 0 0 0]\n",
            " [0 0 0 0 0 4 0 0 0 0]\n",
            " [0 0 0 0 0 0 3 0 0 0]\n",
            " [0 0 0 0 0 0 0 2 0 0]\n",
            " [0 0 0 0 0 0 0 0 1 0]\n",
            " [0 0 0 0 0 0 0 0 0 0]]\n",
            "Сумма значений на диагонали: 45\n"
          ]
        }
      ]
    },
    {
      "cell_type": "markdown",
      "source": [
        "**Задание 3**\n",
        "\n",
        "Решите систему уравнений:\n",
        "```\n",
        "4x + 2y + z = 4\n",
        "x + 3y = 12\n",
        "5y + 4z = -3\n",
        "```"
      ],
      "metadata": {
        "id": "aZq64_NUusiD"
      }
    },
    {
      "cell_type": "code",
      "source": [
        "import numpy as np\n",
        "from numpy import linalg\n",
        "\n",
        "#коэффициенты при переменных\n",
        "a = np.array([ [4, 2, 1], [1, 3, 0], [0, 5, 4] ])\n",
        "\n",
        "# коэффициенты правой части\n",
        "b = np.array([4, 12, -3])\n",
        "\n",
        "# решаем\n",
        "s = linalg.solve(a,b)\n",
        "\n",
        "print(f'x = {s[0]}, y = {s[1]}, z = {s[2]}')"
      ],
      "metadata": {
        "id": "IPLFZLODvKn3",
        "colab": {
          "base_uri": "https://localhost:8080/"
        },
        "outputId": "28df38ed-3d75-4ba9-9438-3a9d13ca4f31"
      },
      "execution_count": 29,
      "outputs": [
        {
          "output_type": "stream",
          "name": "stdout",
          "text": [
            "x = 0.4666666666666668, y = 3.844444444444444, z = -5.555555555555555\n"
          ]
        }
      ]
    },
    {
      "cell_type": "markdown",
      "source": [
        "**Задание 4**\n",
        "\n",
        "Задание находится в тренажере “Косинусное сходство”\n",
        "\n",
        "Имеется матрица покупок в интернет-магазине - users_stats. Столбец А - ID пользователя. Остальные столбцы - количество покупок категорий товаров этим пользователем\n",
        "\n",
        "На сайт заходит очередной посетитель, о покупках которого известно следующее:\n",
        "next_user_stats\n",
        "\n",
        "Найдите индекс самого похожего пользователя max_index.\n",
        "Нумерацию индексов следует начинать с 0"
      ],
      "metadata": {
        "id": "V0YDVny_vNK_"
      }
    },
    {
      "cell_type": "code",
      "source": [
        "import numpy as np\n",
        "from numpy.linalg import norm\n",
        "\n",
        "users_stats = np.array(\n",
        "    [\n",
        "        [2, 1, 0, 0, 0, 0],\n",
        "        [1, 1, 2, 1, 0, 0],\n",
        "        [2, 0, 1, 0, 0, 0],\n",
        "        [1, 1, 2, 1, 0, 1],\n",
        "        [0, 0, 1, 2, 0, 0],\n",
        "        [0, 0, 0, 0, 0, 5],\n",
        "        [1, 0, 0, 0, 0, 0],\n",
        "        [0, 1, 1, 0, 0, 0],\n",
        "        [0, 0, 0, 1, 1, 3],\n",
        "        [1, 0, 0, 2, 1, 4]\n",
        "    ], \n",
        ")\n",
        "#косинус угла между пользователями\n",
        "cosine = np.dot(users_stats, next_user_stats)/(norm(users_stats, axis=1)*norm(next_user_stats))\n",
        "\n",
        "# индекс самого похожего пользователя \n",
        "max_index = np.argmax(cosine)\n",
        "\n",
        "print(f'Индекс самого похожего пользователя - {max_index}')\n"
      ],
      "metadata": {
        "colab": {
          "base_uri": "https://localhost:8080/"
        },
        "id": "kRQx_ATtXTqF",
        "outputId": "13efc3af-a946-4818-d5b3-763ea670b27d"
      },
      "execution_count": 31,
      "outputs": [
        {
          "output_type": "stream",
          "name": "stdout",
          "text": [
            "Индекс самого похожего пользователя - 7\n"
          ]
        }
      ]
    }
  ]
}