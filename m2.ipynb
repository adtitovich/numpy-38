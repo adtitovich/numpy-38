{
  "nbformat": 4,
  "nbformat_minor": 0,
  "metadata": {
    "colab": {
      "provenance": [],
      "authorship_tag": "ABX9TyNWpv4sBY1uK7iSx3e1Hcr3",
      "include_colab_link": true
    },
    "kernelspec": {
      "name": "python3",
      "display_name": "Python 3"
    },
    "language_info": {
      "name": "python"
    }
  },
  "cells": [
    {
      "cell_type": "markdown",
      "metadata": {
        "id": "view-in-github",
        "colab_type": "text"
      },
      "source": [
        "<a href=\"https://colab.research.google.com/github/adtitovich/numpy-38/blob/main/m2.ipynb\" target=\"_parent\"><img src=\"https://colab.research.google.com/assets/colab-badge.svg\" alt=\"Open In Colab\"/></a>"
      ]
    },
    {
      "cell_type": "markdown",
      "source": [
        "***Домашнее задание «Библиотека pandas»***"
      ],
      "metadata": {
        "id": "pFRx4WdIuprq"
      }
    },
    {
      "cell_type": "markdown",
      "source": [
        "**Задание 1**\n",
        "\n",
        "Скачайте  [с сайта](https://grouplens.org/datasets/movielens/) датасет любого размера. Определите, какому фильму было выставлено больше всего оценок 5.0."
      ],
      "metadata": {
        "id": "DU0RcMLEu28n"
      }
    },
    {
      "cell_type": "code",
      "source": [
        "import pandas as pd\n",
        "\n",
        "from google.colab import drive\n",
        "\n",
        "# монтируем google-диск для чтения ratings.csv\n",
        "drive.mount('/content/gdrive') \n",
        "data = pd.read_csv('/content/gdrive/My Drive/ratings.csv')\n",
        "\n",
        "#отключаем google-диск\n",
        "drive.flush_and_unmount() \n",
        "\n",
        "# считаем кол-во оценок 5.0\n",
        "data[data['rating'] == 5.0]['movieId'].value_counts().head(10)\n"
      ],
      "metadata": {
        "id": "gJUZQxpku91N",
        "outputId": "7142dc0f-6a3c-4946-c64c-4b61a47e1cee",
        "colab": {
          "base_uri": "https://localhost:8080/"
        }
      },
      "execution_count": 19,
      "outputs": [
        {
          "output_type": "stream",
          "name": "stdout",
          "text": [
            "Mounted at /content/gdrive\n"
          ]
        },
        {
          "output_type": "execute_result",
          "data": {
            "text/plain": [
              "318     39553\n",
              "296     32169\n",
              "356     25918\n",
              "260     25804\n",
              "2571    25482\n",
              "527     24853\n",
              "593     24801\n",
              "858     24418\n",
              "50      21585\n",
              "2959    21486\n",
              "Name: movieId, dtype: int64"
            ]
          },
          "metadata": {},
          "execution_count": 19
        }
      ]
    },
    {
      "cell_type": "markdown",
      "source": [
        "**Задание 2**\n",
        "\n",
        "По данным файла power.csv посчитайте суммарное потребление стран Прибалтики (Латвия, Литва и Эстония) категорий 4, 12 и 21 за период с 2005 по 2010 год. Не учитывайте в расчётах отрицательные значения quantity"
      ],
      "metadata": {
        "id": "GJxIAN1mu-qi"
      }
    },
    {
      "cell_type": "code",
      "source": [
        "import pandas as pd\n",
        "\n",
        "from google.colab import drive\n",
        "\n",
        "# монтируем google-диск для чтения ratings.csv\n",
        "drive.mount('/content/gdrive') \n",
        "data = pd.read_csv('/content/gdrive/My Drive/power.csv')\n",
        "\n",
        "#отключаем google-диск\n",
        "drive.flush_and_unmount() \n",
        "\n",
        "\n",
        "#подсчитываем суммарное потребление\n",
        "data[\n",
        "    (data['country'].isin(['Latvia', 'Lithuania', 'Estonia'])) & \n",
        "    (data['category'].isin([4, 12, 21])) & \n",
        "    (data['year'].between(2005, 2010)) & \n",
        "    (data['quantity'] > 0)\n",
        "]['quantity'].sum()\n",
        "\n",
        "\n"
      ],
      "metadata": {
        "id": "Mr6BSnVovE95",
        "outputId": "f344c741-b9c8-419b-e0eb-1ee7f3816e4a",
        "colab": {
          "base_uri": "https://localhost:8080/"
        }
      },
      "execution_count": 22,
      "outputs": [
        {
          "output_type": "stream",
          "name": "stdout",
          "text": [
            "Mounted at /content/gdrive\n"
          ]
        },
        {
          "output_type": "execute_result",
          "data": {
            "text/plain": [
              "240580.0"
            ]
          },
          "metadata": {},
          "execution_count": 22
        }
      ]
    },
    {
      "cell_type": "markdown",
      "source": [
        "**Задание 3**\n",
        "\n",
        "Выберите страницу любого сайта с табличными данными. Импортируйте таблицы в pandas DataFrame. Вы можете взять любые страницы.\n",
        "Примеры страниц:\n",
        "```\n",
        "https://fortrader.org/quotes;\n",
        "www.finanz.ru...om-vremeni.\n",
        "```"
      ],
      "metadata": {
        "id": "aZq64_NUusiD"
      }
    },
    {
      "cell_type": "code",
      "source": [
        "import pandas as pd\n",
        "\n",
        "url = 'https://en.wikipedia.org/wiki/10_Gigabit_Ethernet'\n",
        "data = pd.read_html(url, match = 'Standard', encoding = 'utf-8')\n",
        "\n",
        "data[0].head()"
      ],
      "metadata": {
        "id": "IPLFZLODvKn3",
        "colab": {
          "base_uri": "https://localhost:8080/",
          "height": 206
        },
        "outputId": "8e9573d8-85b9-47c0-8bf8-eb8abcbffe8c"
      },
      "execution_count": 2,
      "outputs": [
        {
          "output_type": "execute_result",
          "data": {
            "text/plain": [
              "     Standard Publication year  \\\n",
              "0     802.3ae          2002[9]   \n",
              "1     802.3ak             2004   \n",
              "2  802.3-2005             2005   \n",
              "3     802.3an             2006   \n",
              "4     802.3ap             2007   \n",
              "\n",
              "                                         Description  \n",
              "0  10 Gbit/s Ethernet over fiber for LAN (10GBASE...  \n",
              "1  10GBASE-CX4 10 Gbit/s Ethernet over twinaxial ...  \n",
              "2  A revision of base standard incorporating 802....  \n",
              "3  10GBASE-T 10 Gbit/s Ethernet over copper twist...  \n",
              "4  Backplane Ethernet, 1 and 10 Gbit/s over print...  "
            ],
            "text/html": [
              "\n",
              "  <div id=\"df-ad7bae6c-ac49-451d-815e-8f0a7f85782c\">\n",
              "    <div class=\"colab-df-container\">\n",
              "      <div>\n",
              "<style scoped>\n",
              "    .dataframe tbody tr th:only-of-type {\n",
              "        vertical-align: middle;\n",
              "    }\n",
              "\n",
              "    .dataframe tbody tr th {\n",
              "        vertical-align: top;\n",
              "    }\n",
              "\n",
              "    .dataframe thead th {\n",
              "        text-align: right;\n",
              "    }\n",
              "</style>\n",
              "<table border=\"1\" class=\"dataframe\">\n",
              "  <thead>\n",
              "    <tr style=\"text-align: right;\">\n",
              "      <th></th>\n",
              "      <th>Standard</th>\n",
              "      <th>Publication year</th>\n",
              "      <th>Description</th>\n",
              "    </tr>\n",
              "  </thead>\n",
              "  <tbody>\n",
              "    <tr>\n",
              "      <th>0</th>\n",
              "      <td>802.3ae</td>\n",
              "      <td>2002[9]</td>\n",
              "      <td>10 Gbit/s Ethernet over fiber for LAN (10GBASE...</td>\n",
              "    </tr>\n",
              "    <tr>\n",
              "      <th>1</th>\n",
              "      <td>802.3ak</td>\n",
              "      <td>2004</td>\n",
              "      <td>10GBASE-CX4 10 Gbit/s Ethernet over twinaxial ...</td>\n",
              "    </tr>\n",
              "    <tr>\n",
              "      <th>2</th>\n",
              "      <td>802.3-2005</td>\n",
              "      <td>2005</td>\n",
              "      <td>A revision of base standard incorporating 802....</td>\n",
              "    </tr>\n",
              "    <tr>\n",
              "      <th>3</th>\n",
              "      <td>802.3an</td>\n",
              "      <td>2006</td>\n",
              "      <td>10GBASE-T 10 Gbit/s Ethernet over copper twist...</td>\n",
              "    </tr>\n",
              "    <tr>\n",
              "      <th>4</th>\n",
              "      <td>802.3ap</td>\n",
              "      <td>2007</td>\n",
              "      <td>Backplane Ethernet, 1 and 10 Gbit/s over print...</td>\n",
              "    </tr>\n",
              "  </tbody>\n",
              "</table>\n",
              "</div>\n",
              "      <button class=\"colab-df-convert\" onclick=\"convertToInteractive('df-ad7bae6c-ac49-451d-815e-8f0a7f85782c')\"\n",
              "              title=\"Convert this dataframe to an interactive table.\"\n",
              "              style=\"display:none;\">\n",
              "        \n",
              "  <svg xmlns=\"http://www.w3.org/2000/svg\" height=\"24px\"viewBox=\"0 0 24 24\"\n",
              "       width=\"24px\">\n",
              "    <path d=\"M0 0h24v24H0V0z\" fill=\"none\"/>\n",
              "    <path d=\"M18.56 5.44l.94 2.06.94-2.06 2.06-.94-2.06-.94-.94-2.06-.94 2.06-2.06.94zm-11 1L8.5 8.5l.94-2.06 2.06-.94-2.06-.94L8.5 2.5l-.94 2.06-2.06.94zm10 10l.94 2.06.94-2.06 2.06-.94-2.06-.94-.94-2.06-.94 2.06-2.06.94z\"/><path d=\"M17.41 7.96l-1.37-1.37c-.4-.4-.92-.59-1.43-.59-.52 0-1.04.2-1.43.59L10.3 9.45l-7.72 7.72c-.78.78-.78 2.05 0 2.83L4 21.41c.39.39.9.59 1.41.59.51 0 1.02-.2 1.41-.59l7.78-7.78 2.81-2.81c.8-.78.8-2.07 0-2.86zM5.41 20L4 18.59l7.72-7.72 1.47 1.35L5.41 20z\"/>\n",
              "  </svg>\n",
              "      </button>\n",
              "      \n",
              "  <style>\n",
              "    .colab-df-container {\n",
              "      display:flex;\n",
              "      flex-wrap:wrap;\n",
              "      gap: 12px;\n",
              "    }\n",
              "\n",
              "    .colab-df-convert {\n",
              "      background-color: #E8F0FE;\n",
              "      border: none;\n",
              "      border-radius: 50%;\n",
              "      cursor: pointer;\n",
              "      display: none;\n",
              "      fill: #1967D2;\n",
              "      height: 32px;\n",
              "      padding: 0 0 0 0;\n",
              "      width: 32px;\n",
              "    }\n",
              "\n",
              "    .colab-df-convert:hover {\n",
              "      background-color: #E2EBFA;\n",
              "      box-shadow: 0px 1px 2px rgba(60, 64, 67, 0.3), 0px 1px 3px 1px rgba(60, 64, 67, 0.15);\n",
              "      fill: #174EA6;\n",
              "    }\n",
              "\n",
              "    [theme=dark] .colab-df-convert {\n",
              "      background-color: #3B4455;\n",
              "      fill: #D2E3FC;\n",
              "    }\n",
              "\n",
              "    [theme=dark] .colab-df-convert:hover {\n",
              "      background-color: #434B5C;\n",
              "      box-shadow: 0px 1px 3px 1px rgba(0, 0, 0, 0.15);\n",
              "      filter: drop-shadow(0px 1px 2px rgba(0, 0, 0, 0.3));\n",
              "      fill: #FFFFFF;\n",
              "    }\n",
              "  </style>\n",
              "\n",
              "      <script>\n",
              "        const buttonEl =\n",
              "          document.querySelector('#df-ad7bae6c-ac49-451d-815e-8f0a7f85782c button.colab-df-convert');\n",
              "        buttonEl.style.display =\n",
              "          google.colab.kernel.accessAllowed ? 'block' : 'none';\n",
              "\n",
              "        async function convertToInteractive(key) {\n",
              "          const element = document.querySelector('#df-ad7bae6c-ac49-451d-815e-8f0a7f85782c');\n",
              "          const dataTable =\n",
              "            await google.colab.kernel.invokeFunction('convertToInteractive',\n",
              "                                                     [key], {});\n",
              "          if (!dataTable) return;\n",
              "\n",
              "          const docLinkHtml = 'Like what you see? Visit the ' +\n",
              "            '<a target=\"_blank\" href=https://colab.research.google.com/notebooks/data_table.ipynb>data table notebook</a>'\n",
              "            + ' to learn more about interactive tables.';\n",
              "          element.innerHTML = '';\n",
              "          dataTable['output_type'] = 'display_data';\n",
              "          await google.colab.output.renderOutput(dataTable, element);\n",
              "          const docLink = document.createElement('div');\n",
              "          docLink.innerHTML = docLinkHtml;\n",
              "          element.appendChild(docLink);\n",
              "        }\n",
              "      </script>\n",
              "    </div>\n",
              "  </div>\n",
              "  "
            ]
          },
          "metadata": {},
          "execution_count": 2
        }
      ]
    }
  ]
}